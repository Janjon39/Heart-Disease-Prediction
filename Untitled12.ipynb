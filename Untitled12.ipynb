{
  "nbformat": 4,
  "nbformat_minor": 0,
  "metadata": {
    "colab": {
      "provenance": [],
      "authorship_tag": "ABX9TyP3XV/LkWFaALQ6/WD5283Z",
      "include_colab_link": true
    },
    "kernelspec": {
      "name": "python3",
      "display_name": "Python 3"
    },
    "language_info": {
      "name": "python"
    }
  },
  "cells": [
    {
      "cell_type": "markdown",
      "metadata": {
        "id": "view-in-github",
        "colab_type": "text"
      },
      "source": [
        "<a href=\"https://colab.research.google.com/github/Janjon39/Heart-Disease-Prediction/blob/main/Untitled12.ipynb\" target=\"_parent\"><img src=\"https://colab.research.google.com/assets/colab-badge.svg\" alt=\"Open In Colab\"/></a>"
      ]
    },
    {
      "cell_type": "code",
      "execution_count": null,
      "metadata": {
        "colab": {
          "base_uri": "https://localhost:8080/"
        },
        "id": "M5t6ymoTHKCP",
        "outputId": "55bf3f58-001a-49a0-a420-95b34712368b"
      },
      "outputs": [
        {
          "output_type": "stream",
          "name": "stdout",
          "text": [
            "Requirement already satisfied: streamlit in /usr/local/lib/python3.11/dist-packages (1.45.0)\n",
            "Requirement already satisfied: pandas in /usr/local/lib/python3.11/dist-packages (2.2.2)\n",
            "Requirement already satisfied: numpy in /usr/local/lib/python3.11/dist-packages (2.0.2)\n",
            "Requirement already satisfied: scikit-learn in /usr/local/lib/python3.11/dist-packages (1.6.1)\n",
            "Requirement already satisfied: folium in /usr/local/lib/python3.11/dist-packages (0.19.5)\n",
            "Collecting streamlit-folium\n",
            "  Downloading streamlit_folium-0.25.0-py3-none-any.whl.metadata (621 bytes)\n",
            "Requirement already satisfied: altair<6,>=4.0 in /usr/local/lib/python3.11/dist-packages (from streamlit) (5.5.0)\n",
            "Requirement already satisfied: blinker<2,>=1.5.0 in /usr/local/lib/python3.11/dist-packages (from streamlit) (1.9.0)\n",
            "Requirement already satisfied: cachetools<6,>=4.0 in /usr/local/lib/python3.11/dist-packages (from streamlit) (5.5.2)\n",
            "Requirement already satisfied: click<9,>=7.0 in /usr/local/lib/python3.11/dist-packages (from streamlit) (8.1.8)\n",
            "Requirement already satisfied: packaging<25,>=20 in /usr/local/lib/python3.11/dist-packages (from streamlit) (24.2)\n",
            "Requirement already satisfied: pillow<12,>=7.1.0 in /usr/local/lib/python3.11/dist-packages (from streamlit) (11.2.1)\n",
            "Requirement already satisfied: protobuf<7,>=3.20 in /usr/local/lib/python3.11/dist-packages (from streamlit) (5.29.4)\n",
            "Requirement already satisfied: pyarrow>=7.0 in /usr/local/lib/python3.11/dist-packages (from streamlit) (18.1.0)\n",
            "Requirement already satisfied: requests<3,>=2.27 in /usr/local/lib/python3.11/dist-packages (from streamlit) (2.32.3)\n",
            "Requirement already satisfied: tenacity<10,>=8.1.0 in /usr/local/lib/python3.11/dist-packages (from streamlit) (9.1.2)\n",
            "Requirement already satisfied: toml<2,>=0.10.1 in /usr/local/lib/python3.11/dist-packages (from streamlit) (0.10.2)\n",
            "Requirement already satisfied: typing-extensions<5,>=4.4.0 in /usr/local/lib/python3.11/dist-packages (from streamlit) (4.13.2)\n",
            "Requirement already satisfied: watchdog<7,>=2.1.5 in /usr/local/lib/python3.11/dist-packages (from streamlit) (6.0.0)\n",
            "Requirement already satisfied: gitpython!=3.1.19,<4,>=3.0.7 in /usr/local/lib/python3.11/dist-packages (from streamlit) (3.1.44)\n",
            "Requirement already satisfied: pydeck<1,>=0.8.0b4 in /usr/local/lib/python3.11/dist-packages (from streamlit) (0.9.1)\n",
            "Requirement already satisfied: tornado<7,>=6.0.3 in /usr/local/lib/python3.11/dist-packages (from streamlit) (6.4.2)\n",
            "Requirement already satisfied: python-dateutil>=2.8.2 in /usr/local/lib/python3.11/dist-packages (from pandas) (2.9.0.post0)\n",
            "Requirement already satisfied: pytz>=2020.1 in /usr/local/lib/python3.11/dist-packages (from pandas) (2025.2)\n",
            "Requirement already satisfied: tzdata>=2022.7 in /usr/local/lib/python3.11/dist-packages (from pandas) (2025.2)\n",
            "Requirement already satisfied: scipy>=1.6.0 in /usr/local/lib/python3.11/dist-packages (from scikit-learn) (1.15.2)\n",
            "Requirement already satisfied: joblib>=1.2.0 in /usr/local/lib/python3.11/dist-packages (from scikit-learn) (1.4.2)\n",
            "Requirement already satisfied: threadpoolctl>=3.1.0 in /usr/local/lib/python3.11/dist-packages (from scikit-learn) (3.6.0)\n",
            "Requirement already satisfied: branca>=0.6.0 in /usr/local/lib/python3.11/dist-packages (from folium) (0.8.1)\n",
            "Requirement already satisfied: jinja2>=2.9 in /usr/local/lib/python3.11/dist-packages (from folium) (3.1.6)\n",
            "Requirement already satisfied: xyzservices in /usr/local/lib/python3.11/dist-packages (from folium) (2025.4.0)\n",
            "Requirement already satisfied: jsonschema>=3.0 in /usr/local/lib/python3.11/dist-packages (from altair<6,>=4.0->streamlit) (4.23.0)\n",
            "Requirement already satisfied: narwhals>=1.14.2 in /usr/local/lib/python3.11/dist-packages (from altair<6,>=4.0->streamlit) (1.37.1)\n",
            "Requirement already satisfied: gitdb<5,>=4.0.1 in /usr/local/lib/python3.11/dist-packages (from gitpython!=3.1.19,<4,>=3.0.7->streamlit) (4.0.12)\n",
            "Requirement already satisfied: MarkupSafe>=2.0 in /usr/local/lib/python3.11/dist-packages (from jinja2>=2.9->folium) (3.0.2)\n",
            "Requirement already satisfied: six>=1.5 in /usr/local/lib/python3.11/dist-packages (from python-dateutil>=2.8.2->pandas) (1.17.0)\n",
            "Requirement already satisfied: charset-normalizer<4,>=2 in /usr/local/lib/python3.11/dist-packages (from requests<3,>=2.27->streamlit) (3.4.1)\n",
            "Requirement already satisfied: idna<4,>=2.5 in /usr/local/lib/python3.11/dist-packages (from requests<3,>=2.27->streamlit) (3.10)\n",
            "Requirement already satisfied: urllib3<3,>=1.21.1 in /usr/local/lib/python3.11/dist-packages (from requests<3,>=2.27->streamlit) (2.4.0)\n",
            "Requirement already satisfied: certifi>=2017.4.17 in /usr/local/lib/python3.11/dist-packages (from requests<3,>=2.27->streamlit) (2025.4.26)\n",
            "Requirement already satisfied: smmap<6,>=3.0.1 in /usr/local/lib/python3.11/dist-packages (from gitdb<5,>=4.0.1->gitpython!=3.1.19,<4,>=3.0.7->streamlit) (5.0.2)\n",
            "Requirement already satisfied: attrs>=22.2.0 in /usr/local/lib/python3.11/dist-packages (from jsonschema>=3.0->altair<6,>=4.0->streamlit) (25.3.0)\n",
            "Requirement already satisfied: jsonschema-specifications>=2023.03.6 in /usr/local/lib/python3.11/dist-packages (from jsonschema>=3.0->altair<6,>=4.0->streamlit) (2025.4.1)\n",
            "Requirement already satisfied: referencing>=0.28.4 in /usr/local/lib/python3.11/dist-packages (from jsonschema>=3.0->altair<6,>=4.0->streamlit) (0.36.2)\n",
            "Requirement already satisfied: rpds-py>=0.7.1 in /usr/local/lib/python3.11/dist-packages (from jsonschema>=3.0->altair<6,>=4.0->streamlit) (0.24.0)\n",
            "Downloading streamlit_folium-0.25.0-py3-none-any.whl (328 kB)\n",
            "\u001b[2K   \u001b[90m━━━━━━━━━━━━━━━━━━━━━━━━━━━━━━━━━━━━━━━━\u001b[0m \u001b[32m328.4/328.4 kB\u001b[0m \u001b[31m5.2 MB/s\u001b[0m eta \u001b[36m0:00:00\u001b[0m\n",
            "\u001b[?25hInstalling collected packages: streamlit-folium\n",
            "Successfully installed streamlit-folium-0.25.0\n"
          ]
        }
      ],
      "source": [
        "!pip install streamlit pandas numpy scikit-learn folium streamlit-folium"
      ]
    },
    {
      "cell_type": "code",
      "source": [
        "%%writefile app.py\n",
        "import pandas as pd\n",
        "import numpy as np\n",
        "import streamlit as st\n",
        "import folium\n",
        "from streamlit_folium import folium_static\n",
        "from sklearn.preprocessing import MinMaxScaler"
      ],
      "metadata": {
        "colab": {
          "base_uri": "https://localhost:8080/"
        },
        "id": "bfNYpDoe-HHi",
        "outputId": "4f980b06-238e-49cd-c7dd-83ca9cc3b22e"
      },
      "execution_count": null,
      "outputs": [
        {
          "output_type": "stream",
          "name": "stdout",
          "text": [
            "Overwriting app.py\n"
          ]
        }
      ]
    },
    {
      "cell_type": "code",
      "source": [
        "import pandas as pd\n",
        "\n",
        "df = pd.read_csv('zomato.csv', header=None, encoding='latin-1')\n",
        "\n",
        "# Get the actual number of columns in the DataFrame\n",
        "num_cols = df.shape[1]\n",
        "\n",
        "# Generate a list of column names based on the number of columns\n",
        "df.columns = [f'col_{i}' for i in range(num_cols)]\n",
        "\n",
        "# Print the first few rows to inspect the data and identify relevant columns\n",
        "print(df.head())\n",
        "\n",
        "\n",
        "\n",
        "df['content'] = df['col_3'].fillna('') + ' ' + df['col_4'].fillna('')\n",
        "df = df[['col_0', 'col_1', 'col_2', 'content']]\n",
        "df.head()"
      ],
      "metadata": {
        "colab": {
          "base_uri": "https://localhost:8080/",
          "height": 1000
        },
        "id": "x3LyUNuJ-REc",
        "outputId": "5a3e7cb8-f712-47b5-c1f5-82e8517de696"
      },
      "execution_count": null,
      "outputs": [
        {
          "output_type": "stream",
          "name": "stdout",
          "text": [
            "           col_0                   col_1         col_2             col_3  \\\n",
            "0  Restaurant ID         Restaurant Name  Country Code              City   \n",
            "1        6317637        Le Petit Souffle           162       Makati City   \n",
            "2        6304287        Izakaya Kikufuji           162       Makati City   \n",
            "3        6300002  Heat - Edsa Shangri-La           162  Mandaluyong City   \n",
            "4        6318506                    Ooma           162  Mandaluyong City   \n",
            "\n",
            "                                               col_4  \\\n",
            "0                                            Address   \n",
            "1  Third Floor, Century City Mall, Kalayaan Avenu...   \n",
            "2  Little Tokyo, 2277 Chino Roces Avenue, Legaspi...   \n",
            "3  Edsa Shangri-La, 1 Garden Way, Ortigas, Mandal...   \n",
            "4  Third Floor, Mega Fashion Hall, SM Megamall, O...   \n",
            "\n",
            "                                        col_5  \\\n",
            "0                                    Locality   \n",
            "1   Century City Mall, Poblacion, Makati City   \n",
            "2  Little Tokyo, Legaspi Village, Makati City   \n",
            "3  Edsa Shangri-La, Ortigas, Mandaluyong City   \n",
            "4      SM Megamall, Ortigas, Mandaluyong City   \n",
            "\n",
            "                                               col_6       col_7      col_8  \\\n",
            "0                                   Locality Verbose   Longitude   Latitude   \n",
            "1  Century City Mall, Poblacion, Makati City, Mak...  121.027535  14.565443   \n",
            "2  Little Tokyo, Legaspi Village, Makati City, Ma...  121.014101  14.553708   \n",
            "3  Edsa Shangri-La, Ortigas, Mandaluyong City, Ma...  121.056831  14.581404   \n",
            "4  SM Megamall, Ortigas, Mandaluyong City, Mandal...  121.056475  14.585318   \n",
            "\n",
            "                              col_9  ...            col_11             col_12  \\\n",
            "0                          Cuisines  ...          Currency  Has Table booking   \n",
            "1        French, Japanese, Desserts  ...  Botswana Pula(P)                Yes   \n",
            "2                          Japanese  ...  Botswana Pula(P)                Yes   \n",
            "3  Seafood, Asian, Filipino, Indian  ...  Botswana Pula(P)                Yes   \n",
            "4                   Japanese, Sushi  ...  Botswana Pula(P)                 No   \n",
            "\n",
            "                col_13             col_14                col_15       col_16  \\\n",
            "0  Has Online delivery  Is delivering now  Switch to order menu  Price range   \n",
            "1                   No                 No                    No            3   \n",
            "2                   No                 No                    No            3   \n",
            "3                   No                 No                    No            4   \n",
            "4                   No                 No                    No            4   \n",
            "\n",
            "             col_17        col_18       col_19 col_20  \n",
            "0  Aggregate rating  Rating color  Rating text  Votes  \n",
            "1               4.8    Dark Green    Excellent    314  \n",
            "2               4.5    Dark Green    Excellent    591  \n",
            "3               4.4         Green    Very Good    270  \n",
            "4               4.9    Dark Green    Excellent    365  \n",
            "\n",
            "[5 rows x 21 columns]\n"
          ]
        },
        {
          "output_type": "execute_result",
          "data": {
            "text/plain": [
              "           col_0                   col_1         col_2  \\\n",
              "0  Restaurant ID         Restaurant Name  Country Code   \n",
              "1        6317637        Le Petit Souffle           162   \n",
              "2        6304287        Izakaya Kikufuji           162   \n",
              "3        6300002  Heat - Edsa Shangri-La           162   \n",
              "4        6318506                    Ooma           162   \n",
              "\n",
              "                                             content  \n",
              "0                                       City Address  \n",
              "1  Makati City Third Floor, Century City Mall, Ka...  \n",
              "2  Makati City Little Tokyo, 2277 Chino Roces Ave...  \n",
              "3  Mandaluyong City Edsa Shangri-La, 1 Garden Way...  \n",
              "4  Mandaluyong City Third Floor, Mega Fashion Hal...  "
            ],
            "text/html": [
              "\n",
              "  <div id=\"df-46694d7d-3cf9-4fc9-abf2-08466363a219\" class=\"colab-df-container\">\n",
              "    <div>\n",
              "<style scoped>\n",
              "    .dataframe tbody tr th:only-of-type {\n",
              "        vertical-align: middle;\n",
              "    }\n",
              "\n",
              "    .dataframe tbody tr th {\n",
              "        vertical-align: top;\n",
              "    }\n",
              "\n",
              "    .dataframe thead th {\n",
              "        text-align: right;\n",
              "    }\n",
              "</style>\n",
              "<table border=\"1\" class=\"dataframe\">\n",
              "  <thead>\n",
              "    <tr style=\"text-align: right;\">\n",
              "      <th></th>\n",
              "      <th>col_0</th>\n",
              "      <th>col_1</th>\n",
              "      <th>col_2</th>\n",
              "      <th>content</th>\n",
              "    </tr>\n",
              "  </thead>\n",
              "  <tbody>\n",
              "    <tr>\n",
              "      <th>0</th>\n",
              "      <td>Restaurant ID</td>\n",
              "      <td>Restaurant Name</td>\n",
              "      <td>Country Code</td>\n",
              "      <td>City Address</td>\n",
              "    </tr>\n",
              "    <tr>\n",
              "      <th>1</th>\n",
              "      <td>6317637</td>\n",
              "      <td>Le Petit Souffle</td>\n",
              "      <td>162</td>\n",
              "      <td>Makati City Third Floor, Century City Mall, Ka...</td>\n",
              "    </tr>\n",
              "    <tr>\n",
              "      <th>2</th>\n",
              "      <td>6304287</td>\n",
              "      <td>Izakaya Kikufuji</td>\n",
              "      <td>162</td>\n",
              "      <td>Makati City Little Tokyo, 2277 Chino Roces Ave...</td>\n",
              "    </tr>\n",
              "    <tr>\n",
              "      <th>3</th>\n",
              "      <td>6300002</td>\n",
              "      <td>Heat - Edsa Shangri-La</td>\n",
              "      <td>162</td>\n",
              "      <td>Mandaluyong City Edsa Shangri-La, 1 Garden Way...</td>\n",
              "    </tr>\n",
              "    <tr>\n",
              "      <th>4</th>\n",
              "      <td>6318506</td>\n",
              "      <td>Ooma</td>\n",
              "      <td>162</td>\n",
              "      <td>Mandaluyong City Third Floor, Mega Fashion Hal...</td>\n",
              "    </tr>\n",
              "  </tbody>\n",
              "</table>\n",
              "</div>\n",
              "    <div class=\"colab-df-buttons\">\n",
              "\n",
              "  <div class=\"colab-df-container\">\n",
              "    <button class=\"colab-df-convert\" onclick=\"convertToInteractive('df-46694d7d-3cf9-4fc9-abf2-08466363a219')\"\n",
              "            title=\"Convert this dataframe to an interactive table.\"\n",
              "            style=\"display:none;\">\n",
              "\n",
              "  <svg xmlns=\"http://www.w3.org/2000/svg\" height=\"24px\" viewBox=\"0 -960 960 960\">\n",
              "    <path d=\"M120-120v-720h720v720H120Zm60-500h600v-160H180v160Zm220 220h160v-160H400v160Zm0 220h160v-160H400v160ZM180-400h160v-160H180v160Zm440 0h160v-160H620v160ZM180-180h160v-160H180v160Zm440 0h160v-160H620v160Z\"/>\n",
              "  </svg>\n",
              "    </button>\n",
              "\n",
              "  <style>\n",
              "    .colab-df-container {\n",
              "      display:flex;\n",
              "      gap: 12px;\n",
              "    }\n",
              "\n",
              "    .colab-df-convert {\n",
              "      background-color: #E8F0FE;\n",
              "      border: none;\n",
              "      border-radius: 50%;\n",
              "      cursor: pointer;\n",
              "      display: none;\n",
              "      fill: #1967D2;\n",
              "      height: 32px;\n",
              "      padding: 0 0 0 0;\n",
              "      width: 32px;\n",
              "    }\n",
              "\n",
              "    .colab-df-convert:hover {\n",
              "      background-color: #E2EBFA;\n",
              "      box-shadow: 0px 1px 2px rgba(60, 64, 67, 0.3), 0px 1px 3px 1px rgba(60, 64, 67, 0.15);\n",
              "      fill: #174EA6;\n",
              "    }\n",
              "\n",
              "    .colab-df-buttons div {\n",
              "      margin-bottom: 4px;\n",
              "    }\n",
              "\n",
              "    [theme=dark] .colab-df-convert {\n",
              "      background-color: #3B4455;\n",
              "      fill: #D2E3FC;\n",
              "    }\n",
              "\n",
              "    [theme=dark] .colab-df-convert:hover {\n",
              "      background-color: #434B5C;\n",
              "      box-shadow: 0px 1px 3px 1px rgba(0, 0, 0, 0.15);\n",
              "      filter: drop-shadow(0px 1px 2px rgba(0, 0, 0, 0.3));\n",
              "      fill: #FFFFFF;\n",
              "    }\n",
              "  </style>\n",
              "\n",
              "    <script>\n",
              "      const buttonEl =\n",
              "        document.querySelector('#df-46694d7d-3cf9-4fc9-abf2-08466363a219 button.colab-df-convert');\n",
              "      buttonEl.style.display =\n",
              "        google.colab.kernel.accessAllowed ? 'block' : 'none';\n",
              "\n",
              "      async function convertToInteractive(key) {\n",
              "        const element = document.querySelector('#df-46694d7d-3cf9-4fc9-abf2-08466363a219');\n",
              "        const dataTable =\n",
              "          await google.colab.kernel.invokeFunction('convertToInteractive',\n",
              "                                                    [key], {});\n",
              "        if (!dataTable) return;\n",
              "\n",
              "        const docLinkHtml = 'Like what you see? Visit the ' +\n",
              "          '<a target=\"_blank\" href=https://colab.research.google.com/notebooks/data_table.ipynb>data table notebook</a>'\n",
              "          + ' to learn more about interactive tables.';\n",
              "        element.innerHTML = '';\n",
              "        dataTable['output_type'] = 'display_data';\n",
              "        await google.colab.output.renderOutput(dataTable, element);\n",
              "        const docLink = document.createElement('div');\n",
              "        docLink.innerHTML = docLinkHtml;\n",
              "        element.appendChild(docLink);\n",
              "      }\n",
              "    </script>\n",
              "  </div>\n",
              "\n",
              "\n",
              "    <div id=\"df-93ab9257-d2e0-4dc1-8a79-36f527654f1c\">\n",
              "      <button class=\"colab-df-quickchart\" onclick=\"quickchart('df-93ab9257-d2e0-4dc1-8a79-36f527654f1c')\"\n",
              "                title=\"Suggest charts\"\n",
              "                style=\"display:none;\">\n",
              "\n",
              "<svg xmlns=\"http://www.w3.org/2000/svg\" height=\"24px\"viewBox=\"0 0 24 24\"\n",
              "     width=\"24px\">\n",
              "    <g>\n",
              "        <path d=\"M19 3H5c-1.1 0-2 .9-2 2v14c0 1.1.9 2 2 2h14c1.1 0 2-.9 2-2V5c0-1.1-.9-2-2-2zM9 17H7v-7h2v7zm4 0h-2V7h2v10zm4 0h-2v-4h2v4z\"/>\n",
              "    </g>\n",
              "</svg>\n",
              "      </button>\n",
              "\n",
              "<style>\n",
              "  .colab-df-quickchart {\n",
              "      --bg-color: #E8F0FE;\n",
              "      --fill-color: #1967D2;\n",
              "      --hover-bg-color: #E2EBFA;\n",
              "      --hover-fill-color: #174EA6;\n",
              "      --disabled-fill-color: #AAA;\n",
              "      --disabled-bg-color: #DDD;\n",
              "  }\n",
              "\n",
              "  [theme=dark] .colab-df-quickchart {\n",
              "      --bg-color: #3B4455;\n",
              "      --fill-color: #D2E3FC;\n",
              "      --hover-bg-color: #434B5C;\n",
              "      --hover-fill-color: #FFFFFF;\n",
              "      --disabled-bg-color: #3B4455;\n",
              "      --disabled-fill-color: #666;\n",
              "  }\n",
              "\n",
              "  .colab-df-quickchart {\n",
              "    background-color: var(--bg-color);\n",
              "    border: none;\n",
              "    border-radius: 50%;\n",
              "    cursor: pointer;\n",
              "    display: none;\n",
              "    fill: var(--fill-color);\n",
              "    height: 32px;\n",
              "    padding: 0;\n",
              "    width: 32px;\n",
              "  }\n",
              "\n",
              "  .colab-df-quickchart:hover {\n",
              "    background-color: var(--hover-bg-color);\n",
              "    box-shadow: 0 1px 2px rgba(60, 64, 67, 0.3), 0 1px 3px 1px rgba(60, 64, 67, 0.15);\n",
              "    fill: var(--button-hover-fill-color);\n",
              "  }\n",
              "\n",
              "  .colab-df-quickchart-complete:disabled,\n",
              "  .colab-df-quickchart-complete:disabled:hover {\n",
              "    background-color: var(--disabled-bg-color);\n",
              "    fill: var(--disabled-fill-color);\n",
              "    box-shadow: none;\n",
              "  }\n",
              "\n",
              "  .colab-df-spinner {\n",
              "    border: 2px solid var(--fill-color);\n",
              "    border-color: transparent;\n",
              "    border-bottom-color: var(--fill-color);\n",
              "    animation:\n",
              "      spin 1s steps(1) infinite;\n",
              "  }\n",
              "\n",
              "  @keyframes spin {\n",
              "    0% {\n",
              "      border-color: transparent;\n",
              "      border-bottom-color: var(--fill-color);\n",
              "      border-left-color: var(--fill-color);\n",
              "    }\n",
              "    20% {\n",
              "      border-color: transparent;\n",
              "      border-left-color: var(--fill-color);\n",
              "      border-top-color: var(--fill-color);\n",
              "    }\n",
              "    30% {\n",
              "      border-color: transparent;\n",
              "      border-left-color: var(--fill-color);\n",
              "      border-top-color: var(--fill-color);\n",
              "      border-right-color: var(--fill-color);\n",
              "    }\n",
              "    40% {\n",
              "      border-color: transparent;\n",
              "      border-right-color: var(--fill-color);\n",
              "      border-top-color: var(--fill-color);\n",
              "    }\n",
              "    60% {\n",
              "      border-color: transparent;\n",
              "      border-right-color: var(--fill-color);\n",
              "    }\n",
              "    80% {\n",
              "      border-color: transparent;\n",
              "      border-right-color: var(--fill-color);\n",
              "      border-bottom-color: var(--fill-color);\n",
              "    }\n",
              "    90% {\n",
              "      border-color: transparent;\n",
              "      border-bottom-color: var(--fill-color);\n",
              "    }\n",
              "  }\n",
              "</style>\n",
              "\n",
              "      <script>\n",
              "        async function quickchart(key) {\n",
              "          const quickchartButtonEl =\n",
              "            document.querySelector('#' + key + ' button');\n",
              "          quickchartButtonEl.disabled = true;  // To prevent multiple clicks.\n",
              "          quickchartButtonEl.classList.add('colab-df-spinner');\n",
              "          try {\n",
              "            const charts = await google.colab.kernel.invokeFunction(\n",
              "                'suggestCharts', [key], {});\n",
              "          } catch (error) {\n",
              "            console.error('Error during call to suggestCharts:', error);\n",
              "          }\n",
              "          quickchartButtonEl.classList.remove('colab-df-spinner');\n",
              "          quickchartButtonEl.classList.add('colab-df-quickchart-complete');\n",
              "        }\n",
              "        (() => {\n",
              "          let quickchartButtonEl =\n",
              "            document.querySelector('#df-93ab9257-d2e0-4dc1-8a79-36f527654f1c button');\n",
              "          quickchartButtonEl.style.display =\n",
              "            google.colab.kernel.accessAllowed ? 'block' : 'none';\n",
              "        })();\n",
              "      </script>\n",
              "    </div>\n",
              "\n",
              "    </div>\n",
              "  </div>\n"
            ],
            "application/vnd.google.colaboratory.intrinsic+json": {
              "type": "dataframe",
              "variable_name": "df",
              "summary": "{\n  \"name\": \"df\",\n  \"rows\": 9552,\n  \"fields\": [\n    {\n      \"column\": \"col_0\",\n      \"properties\": {\n        \"dtype\": \"string\",\n        \"num_unique_values\": 9552,\n        \"samples\": [\n          \"18233616\",\n          \"18443506\",\n          \"17696871\"\n        ],\n        \"semantic_type\": \"\",\n        \"description\": \"\"\n      }\n    },\n    {\n      \"column\": \"col_1\",\n      \"properties\": {\n        \"dtype\": \"string\",\n        \"num_unique_values\": 7447,\n        \"samples\": [\n          \"Fashion Tv Cafe\",\n          \"Twisted Tacos\",\n          \" Let's Burrrp\"\n        ],\n        \"semantic_type\": \"\",\n        \"description\": \"\"\n      }\n    },\n    {\n      \"column\": \"col_2\",\n      \"properties\": {\n        \"dtype\": \"category\",\n        \"num_unique_values\": 16,\n        \"samples\": [\n          \"Country Code\",\n          \"162\",\n          \"37\"\n        ],\n        \"semantic_type\": \"\",\n        \"description\": \"\"\n      }\n    },\n    {\n      \"column\": \"content\",\n      \"properties\": {\n        \"dtype\": \"string\",\n        \"num_unique_values\": 8919,\n        \"samples\": [\n          \"New Delhi C-7/1, Mandir Marg, Krishna Nagar, New Delhi\",\n          \"Noida B Block Market, Sector 50, Noida\",\n          \"New Delhi 25, DDA Market, Hudson Lane, Kingsway Camp, Delhi University-GTB Nagar, New Delhi\"\n        ],\n        \"semantic_type\": \"\",\n        \"description\": \"\"\n      }\n    }\n  ]\n}"
            }
          },
          "metadata": {},
          "execution_count": 34
        }
      ]
    },
    {
      "cell_type": "code",
      "source": [
        "# Data cleaning steps\n",
        "# Remove duplicates\n",
        "df = df.drop_duplicates()\n",
        "# Handle missing values\n",
        "df = df.dropna(subset=['col_1', 'col_2', 'col_0', 'content'])"
      ],
      "metadata": {
        "id": "hxfWQ9HUFtgw"
      },
      "execution_count": null,
      "outputs": []
    },
    {
      "cell_type": "code",
      "source": [
        "# Normalize categorical values\n",
        "df['content'] = df['content'].str.lower().str.strip()"
      ],
      "metadata": {
        "id": "QUtiVzu5F6h3"
      },
      "execution_count": null,
      "outputs": []
    },
    {
      "cell_type": "code",
      "source": [
        "# Convert price and rating fields\n",
        "\n",
        "df['Average Cost for two'] = pd.to_numeric(df['col_0'], errors='coerce')\n",
        "df['Aggregate rating'] = pd.to_numeric(df['col_1'], errors='coerce')\n",
        "df['Votes'] = pd.to_numeric(df['col_2'], errors='coerce')"
      ],
      "metadata": {
        "id": "t30aQCjOGKL5"
      },
      "execution_count": null,
      "outputs": []
    },
    {
      "cell_type": "code",
      "source": [
        "# Feature engineering\n",
        "# Create price buckets\n",
        "def get_price_bucket(cost):\n",
        "    if cost < 300:\n",
        "        return 'low'\n",
        "    elif 300 <= cost < 700:\n",
        "        return 'medium'\n",
        "    else:\n",
        "        return 'high'\n",
        "\n",
        "df['Price Bucket'] = df['Average Cost for two'].apply(get_price_bucket)"
      ],
      "metadata": {
        "id": "ZRzuathPGbOS"
      },
      "execution_count": null,
      "outputs": []
    },
    {
      "cell_type": "code",
      "source": [
        "# Extract primary cuisine\n",
        "\n",
        "df['Primary Cuisine'] = df['content'].str.split(',').str[0].str.strip()\n",
        "\n",
        "df['Primary Cuisine'] = df['content'].str.split(',').str[0].str.strip()\n"
      ],
      "metadata": {
        "id": "rwEeeFs-Gpj5"
      },
      "execution_count": null,
      "outputs": []
    },
    {
      "cell_type": "code",
      "source": [
        "# Recommendation engine\n",
        "def recommend_restaurants(df, preferences):\n",
        "    # Filter based on user preferences\n",
        "    filtered = df.copy()"
      ],
      "metadata": {
        "id": "vYVvnI2cG74z"
      },
      "execution_count": null,
      "outputs": []
    },
    {
      "cell_type": "code",
      "source": [
        "# Recommendation engine\n",
        "def recommend_restaurants(df, preferences):\n",
        "    # Filter based on user preferences\n",
        "    filtered = df.copy()\n",
        "    # Cuisine filter\n",
        "    if preferences['cuisine'] != 'any':\n",
        "        filtered = filtered[filtered['Primary Cuisine'].str.contains(preferences['cuisine'], case=False)]\n",
        "    # Budget filter\n",
        "    # The following line was incorrectly indented\n",
        "    if preferences['budget'] != 'any':\n",
        "        filtered = filtered[filtered['Price Bucket'] == preferences['budget']]\n",
        "    # Location filter\n",
        "    if preferences['location'] != 'any':\n",
        "        filtered = filtered[filtered['City'].str.contains(preferences['location'], case=False)]\n",
        "    # If no filters return empty, return random restaurants\n",
        "    if len(filtered) == 0:\n",
        "        return pd.DataFrame()\n",
        "    # Calculate score for ranking\n",
        "    scaler = MinMaxScaler()\n",
        "    # Normalize ratings and votes\n",
        "    filtered['Rating Score'] = scaler.fit_transform(filtered[['Aggregate rating']])\n",
        "    filtered['Votes Score'] = scaler.fit_transform(filtered[['Votes']])\n",
        "     # Combined score (weighted average)\n",
        "    filtered['Combined Score'] = (0.7 * filtered['Rating Score'] + 0.3 * filtered['Votes Score'])\n",
        "    # Sort by combined score\n",
        "    filtered = filtered.sort_values('Combined Score', ascending=False)\n",
        "\n",
        "    return filtered.head(10)\n",
        "\n"
      ],
      "metadata": {
        "id": "kuBk9E8rHK-B"
      },
      "execution_count": null,
      "outputs": []
    },
    {
      "cell_type": "code",
      "source": [
        "# Streamlit UI\n",
        "def main():\n",
        "    st.title('🍽️ Knowledge-Based Restaurant Recommender')\n",
        "    st.write('Get personalized restaurant recommendations based on your preferences!')\n",
        "    # Add your Streamlit UI elements here with proper indentation\n",
        "    # For example:\n",
        "    # cuisine = st.selectbox(\"Select Cuisine\", [\"any\", \"italian\", \"chinese\", \"indian\"])"
      ],
      "metadata": {
        "id": "qPPRZpw9Hkws"
      },
      "execution_count": null,
      "outputs": []
    },
    {
      "cell_type": "code",
      "source": [
        "import pandas as pd\n",
        "import streamlit as st\n",
        "\n",
        "def load_data():\n",
        "    try:\n",
        "        # Try loading from local file (for Streamlit)\n",
        "        df = pd.read_csv('zomato.csv', encoding='latin-1')  # Specify encoding here\n",
        "    except FileNotFoundError:\n",
        "        # Try loading from URL (for Colab)\n",
        "        url = 'https://raw.githubusercontent.com/krishnaik06/Recommendation-Engine/main/zomato.csv'  # Corrected URL\n",
        "        df = pd.read_csv(url, encoding='latin-1')  # Specify encoding here\n",
        "    except Exception as e:\n",
        "        st.error(f\"Error loading data: {e}\")  # Display error message in Streamlit\n",
        "        return pd.DataFrame()  # Return an empty DataFrame if loading fails\n",
        "    return df"
      ],
      "metadata": {
        "id": "1nZWSKdOIy5w"
      },
      "execution_count": null,
      "outputs": []
    },
    {
      "cell_type": "code",
      "source": [
        "# Sidebar for user inputs\n",
        "st.sidebar.header('Your Preferences')"
      ],
      "metadata": {
        "colab": {
          "base_uri": "https://localhost:8080/"
        },
        "id": "8XxoagMHJnxt",
        "outputId": "e7e42089-65a7-4838-b9a2-7c9b74808ed9"
      },
      "execution_count": null,
      "outputs": [
        {
          "output_type": "stream",
          "name": "stderr",
          "text": [
            "2025-05-09 17:45:25.300 Thread 'MainThread': missing ScriptRunContext! This warning can be ignored when running in bare mode.\n",
            "2025-05-09 17:45:25.301 Thread 'MainThread': missing ScriptRunContext! This warning can be ignored when running in bare mode.\n"
          ]
        },
        {
          "output_type": "execute_result",
          "data": {
            "text/plain": [
              "DeltaGenerator(_root_container=1, _parent=DeltaGenerator())"
            ]
          },
          "metadata": {},
          "execution_count": 73
        }
      ]
    },
    {
      "cell_type": "code",
      "source": [
        "# Get unique values for dropdowns\n",
        "cuisines = ['any'] + sorted(df['Primary Cuisine'].unique().tolist())\n",
        "\n",
        "locations = ['any'] + sorted(df['content'].str.extract(r'\\((.*?)\\)')[0].dropna().unique().tolist())"
      ],
      "metadata": {
        "id": "nRfDhvm1Jwl7"
      },
      "execution_count": null,
      "outputs": []
    },
    {
      "cell_type": "code",
      "source": [
        "# Streamlit UI\n",
        "def main():\n",
        "    st.title('🍽️ Knowledge-Based Restaurant Recommender')\n",
        "    st.write('Get personalized restaurant recommendations based on your preferences!')\n",
        "    # Add your Streamlit UI elements here with proper indentation\n",
        "    # Sidebar for user inputs\n",
        "    st.sidebar.header('Your Preferences')\n",
        "    # Get unique values for dropdowns\n",
        "    cuisines = ['any'] + sorted(df['Primary Cuisine'].unique().tolist())\n",
        "    locations = ['any'] + sorted(df['content'].str.extract(r'\\((.*?)\\)')[0].dropna().unique().tolist())\n",
        "    # User inputs\n",
        "    cuisine = st.sidebar.selectbox('Preferred Cuisine', cuisines)\n",
        "    budget = st.sidebar.selectbox('Budget', ['any', 'low', 'medium', 'high'])\n",
        "    location = st.sidebar.selectbox('Location', locations)\n",
        "\n",
        "    preferences = {\n",
        "        'cuisine': cuisine,\n",
        "        'budget': budget,\n",
        "        'location': location\n",
        "    }\n",
        "    # Get recommendations\n",
        "    if st.sidebar.button('Get Recommendations'): # Corrected indentation\n",
        "        recommendations = recommend_restaurants(df, preferences)\n",
        "\n",
        "        if len(recommendations) == 0:\n",
        "            st.warning(\"No restaurants match your criteria. Try broadening your search.\")\n",
        "        else:\n",
        "            st.success(f\"Found {len(recommendations)} recommendations for you!\")\n",
        "    # Display recommendations\n",
        "            for idx, row in recommendations.iterrows():\n",
        "                with st.expander(f\"🍴 {row['Restaurant Name']} - ⭐ {row['Aggregate rating']:.1f}\"):\n",
        "                    col1, col2 = st.columns([3, 1])\n",
        "\n",
        "                    with col1:\n",
        "                        st.write(f\"**Cuisine:** {row['Primary Cuisine'].title()}\")\n",
        "                        st.write(f\"**Price Range:** {row['Price Bucket'].title()} (₹{row['Average Cost for two']} for two)\")\n",
        "                        st.write(f\"**Address:** {row['Address']}\")\n",
        "                        st.write(f\"**Votes:** {row['Votes']}\")\n",
        "\n",
        "                        # Explanation moved inside the loop\n",
        "                        explanation = f\"Matched on {row['Primary Cuisine'].title()} cuisine\"\n",
        "                        if budget != 'any':\n",
        "                            explanation += f\", {row['Price Bucket'].title()} budget\"\n",
        "                        if location != 'any':\n",
        "                            explanation += f\", location in {row['City']}\"  # Indented this line\n",
        "                        explanation += f\" with {row['Aggregate rating']:.1f} rating\"\n",
        "                        st.caption(explanation)\n",
        "                    with col2:\n",
        "                        # Simple map (would need lat/long for proper map)\n",
        "                        try:\n",
        "                            map_center = [row['Latitude'], row['Longitude']]\n",
        "                            m = folium.Map(location=map_center, zoom_start=15)\n",
        "                            folium.Marker(map_center, popup=row['Restaurant Name']).add_to(m)\n",
        "                            folium_static(m, width=200, height=200)\n",
        "                        except:\n",
        "                            st.write(\"Map data not available\")"
      ],
      "metadata": {
        "id": "XeF_2Rs0KLi7"
      },
      "execution_count": null,
      "outputs": []
    },
    {
      "cell_type": "code",
      "source": [
        "if __name__ == '__main__':\n",
        "    main()"
      ],
      "metadata": {
        "colab": {
          "base_uri": "https://localhost:8080/"
        },
        "id": "zyYSdYd4LTcH",
        "outputId": "380b97a7-ee31-498a-ba48-ba12d4393af6"
      },
      "execution_count": null,
      "outputs": [
        {
          "output_type": "stream",
          "name": "stderr",
          "text": [
            "2025-05-09 17:54:10.500 Thread 'MainThread': missing ScriptRunContext! This warning can be ignored when running in bare mode.\n",
            "2025-05-09 17:54:10.502 Thread 'MainThread': missing ScriptRunContext! This warning can be ignored when running in bare mode.\n",
            "2025-05-09 17:54:10.504 Thread 'MainThread': missing ScriptRunContext! This warning can be ignored when running in bare mode.\n",
            "2025-05-09 17:54:10.505 Thread 'MainThread': missing ScriptRunContext! This warning can be ignored when running in bare mode.\n",
            "2025-05-09 17:54:10.506 Thread 'MainThread': missing ScriptRunContext! This warning can be ignored when running in bare mode.\n",
            "2025-05-09 17:54:10.508 Thread 'MainThread': missing ScriptRunContext! This warning can be ignored when running in bare mode.\n",
            "2025-05-09 17:54:10.524 Thread 'MainThread': missing ScriptRunContext! This warning can be ignored when running in bare mode.\n",
            "2025-05-09 17:54:10.525 Thread 'MainThread': missing ScriptRunContext! This warning can be ignored when running in bare mode.\n",
            "2025-05-09 17:54:10.534 Thread 'MainThread': missing ScriptRunContext! This warning can be ignored when running in bare mode.\n",
            "2025-05-09 17:54:10.539 Thread 'MainThread': missing ScriptRunContext! This warning can be ignored when running in bare mode.\n",
            "2025-05-09 17:54:10.543 Thread 'MainThread': missing ScriptRunContext! This warning can be ignored when running in bare mode.\n",
            "2025-05-09 17:54:10.546 Thread 'MainThread': missing ScriptRunContext! This warning can be ignored when running in bare mode.\n",
            "2025-05-09 17:54:10.548 Thread 'MainThread': missing ScriptRunContext! This warning can be ignored when running in bare mode.\n",
            "2025-05-09 17:54:10.551 Thread 'MainThread': missing ScriptRunContext! This warning can be ignored when running in bare mode.\n",
            "2025-05-09 17:54:10.552 Thread 'MainThread': missing ScriptRunContext! This warning can be ignored when running in bare mode.\n",
            "2025-05-09 17:54:10.554 Thread 'MainThread': missing ScriptRunContext! This warning can be ignored when running in bare mode.\n",
            "2025-05-09 17:54:10.555 Thread 'MainThread': missing ScriptRunContext! This warning can be ignored when running in bare mode.\n",
            "2025-05-09 17:54:10.556 Thread 'MainThread': missing ScriptRunContext! This warning can be ignored when running in bare mode.\n",
            "2025-05-09 17:54:10.558 Thread 'MainThread': missing ScriptRunContext! This warning can be ignored when running in bare mode.\n",
            "2025-05-09 17:54:10.559 Thread 'MainThread': missing ScriptRunContext! This warning can be ignored when running in bare mode.\n",
            "2025-05-09 17:54:10.560 Thread 'MainThread': missing ScriptRunContext! This warning can be ignored when running in bare mode.\n",
            "2025-05-09 17:54:10.561 Thread 'MainThread': missing ScriptRunContext! This warning can be ignored when running in bare mode.\n",
            "2025-05-09 17:54:10.563 Thread 'MainThread': missing ScriptRunContext! This warning can be ignored when running in bare mode.\n",
            "2025-05-09 17:54:10.565 Thread 'MainThread': missing ScriptRunContext! This warning can be ignored when running in bare mode.\n",
            "2025-05-09 17:54:10.567 Thread 'MainThread': missing ScriptRunContext! This warning can be ignored when running in bare mode.\n",
            "2025-05-09 17:54:10.568 Thread 'MainThread': missing ScriptRunContext! This warning can be ignored when running in bare mode.\n",
            "2025-05-09 17:54:10.569 Thread 'MainThread': missing ScriptRunContext! This warning can be ignored when running in bare mode.\n",
            "2025-05-09 17:54:10.570 Thread 'MainThread': missing ScriptRunContext! This warning can be ignored when running in bare mode.\n",
            "2025-05-09 17:54:10.571 Thread 'MainThread': missing ScriptRunContext! This warning can be ignored when running in bare mode.\n"
          ]
        }
      ]
    },
    {
      "cell_type": "code",
      "source": [
        "!streamlit run app.py & npx localtunnel --port 8501"
      ],
      "metadata": {
        "colab": {
          "base_uri": "https://localhost:8080/"
        },
        "id": "6b1mGoAiL2k2",
        "outputId": "d156fd71-de50-470e-b923-3d105a9b677d"
      },
      "execution_count": null,
      "outputs": [
        {
          "output_type": "stream",
          "name": "stdout",
          "text": [
            "\n",
            "Collecting usage statistics. To deactivate, set browser.gatherUsageStats to false.\n",
            "\u001b[0m\n",
            "\u001b[0m\n",
            "\u001b[34m\u001b[1m  You can now view your Streamlit app in your browser.\u001b[0m\n",
            "\u001b[0m\n",
            "\u001b[34m  Local URL: \u001b[0m\u001b[1mhttp://localhost:8501\u001b[0m\n",
            "\u001b[34m  Network URL: \u001b[0m\u001b[1mhttp://172.28.0.12:8501\u001b[0m\n",
            "\u001b[34m  External URL: \u001b[0m\u001b[1mhttp://34.73.43.138:8501\u001b[0m\n",
            "\u001b[0m\n",
            "\u001b[1G\u001b[0K⠙\u001b[1G\u001b[0K⠹\u001b[1G\u001b[0K⠸\u001b[1G\u001b[0K⠼\u001b[1G\u001b[0K⠴\u001b[1G\u001b[0K⠦\u001b[1G\u001b[0K\u001b[1G\u001b[0JNeed to install the following packages:\n",
            "localtunnel@2.0.2\n",
            "Ok to proceed? (y) \u001b[20G\u001b[34m  Stopping...\u001b[0m\n",
            "^C\n"
          ]
        }
      ]
    }
  ]
}